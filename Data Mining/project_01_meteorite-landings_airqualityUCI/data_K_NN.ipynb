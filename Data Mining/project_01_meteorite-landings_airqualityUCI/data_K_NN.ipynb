{
  "nbformat": 4,
  "nbformat_minor": 0,
  "metadata": {
    "colab": {
      "provenance": []
    },
    "kernelspec": {
      "name": "python3",
      "display_name": "Python 3"
    },
    "language_info": {
      "name": "python"
    }
  },
  "cells": [
    {
      "cell_type": "code",
      "execution_count": 3,
      "metadata": {
        "id": "2Riej_5b27qq"
      },
      "outputs": [],
      "source": [
        "from google.colab import drive\n",
        "import pandas as pd\n",
        "import numpy as np"
      ]
    },
    {
      "cell_type": "code",
      "source": [
        "# Kết nối với Google Drive\n",
        "drive.mount('/content/drive')"
      ],
      "metadata": {
        "colab": {
          "base_uri": "https://localhost:8080/"
        },
        "id": "6rXWahA47GV8",
        "outputId": "72ac0579-ce6d-4a72-fadb-2d4786dd2315"
      },
      "execution_count": 4,
      "outputs": [
        {
          "output_type": "stream",
          "name": "stdout",
          "text": [
            "Mounted at /content/drive\n"
          ]
        }
      ]
    },
    {
      "cell_type": "code",
      "source": [
        "# Đường dẫn đến tệp tin CSV trong Google Drive\n",
        "file_path = 'https://drive.google.com/uc?id=1OQYLAEJhQN1Rg0tKTz5qZDDDEn9o3Rza' \n"
      ],
      "metadata": {
        "id": "wjx78Nyr7IDI"
      },
      "execution_count": 5,
      "outputs": []
    },
    {
      "cell_type": "code",
      "source": [
        "# Đọc tệp tin dữ liệu và lưu vào DataFrame\n",
        "df = pd.read_csv(file_path)\n",
        "\n"
      ],
      "metadata": {
        "id": "0Accbt_e7JmO"
      },
      "execution_count": 6,
      "outputs": []
    },
    {
      "cell_type": "code",
      "source": [
        "df.head()"
      ],
      "metadata": {
        "colab": {
          "base_uri": "https://localhost:8080/",
          "height": 206
        },
        "id": "LXuk6a7M7L6l",
        "outputId": "4b6b61d8-056d-4b91-a7c3-60849bba647d"
      },
      "execution_count": 7,
      "outputs": [
        {
          "output_type": "execute_result",
          "data": {
            "text/plain": [
              "         Date      Time  CO(GT)  PT08.S1(CO)  NMHC(GT)   C6H6(GT)  \\\n",
              "0  2004-03-10  18:00:00     2.6      1360.00       150  11.881723   \n",
              "1  2004-03-10  19:00:00     2.0      1292.25       112   9.397165   \n",
              "2  2004-03-10  20:00:00     2.2      1402.00        88   8.997817   \n",
              "3  2004-03-10  21:00:00     2.2      1375.50        80   9.228796   \n",
              "4  2004-03-10  22:00:00     1.6      1272.25        51   6.518224   \n",
              "\n",
              "   PT08.S2(NMHC)  NOx(GT)  PT08.S3(NOx)  NO2(GT)  PT08.S4(NO2)  PT08.S5(O3)  \\\n",
              "0        1045.50    166.0       1056.25    113.0       1692.00      1267.50   \n",
              "1         954.75    103.0       1173.75     92.0       1558.75       972.25   \n",
              "2         939.25    131.0       1140.00    114.0       1554.50      1074.00   \n",
              "3         948.25    172.0       1092.00    122.0       1583.75      1203.25   \n",
              "4         835.50    131.0       1205.00    116.0       1490.00      1110.00   \n",
              "\n",
              "       T         RH        AH  \n",
              "0  13.60  48.875001  0.757754  \n",
              "1  13.30  47.700000  0.725487  \n",
              "2  11.90  53.975000  0.750239  \n",
              "3  11.00  60.000000  0.786713  \n",
              "4  11.15  59.575001  0.788794  "
            ],
            "text/html": [
              "\n",
              "  <div id=\"df-459cf976-298a-4e1f-a7e6-faf257f4f5eb\">\n",
              "    <div class=\"colab-df-container\">\n",
              "      <div>\n",
              "<style scoped>\n",
              "    .dataframe tbody tr th:only-of-type {\n",
              "        vertical-align: middle;\n",
              "    }\n",
              "\n",
              "    .dataframe tbody tr th {\n",
              "        vertical-align: top;\n",
              "    }\n",
              "\n",
              "    .dataframe thead th {\n",
              "        text-align: right;\n",
              "    }\n",
              "</style>\n",
              "<table border=\"1\" class=\"dataframe\">\n",
              "  <thead>\n",
              "    <tr style=\"text-align: right;\">\n",
              "      <th></th>\n",
              "      <th>Date</th>\n",
              "      <th>Time</th>\n",
              "      <th>CO(GT)</th>\n",
              "      <th>PT08.S1(CO)</th>\n",
              "      <th>NMHC(GT)</th>\n",
              "      <th>C6H6(GT)</th>\n",
              "      <th>PT08.S2(NMHC)</th>\n",
              "      <th>NOx(GT)</th>\n",
              "      <th>PT08.S3(NOx)</th>\n",
              "      <th>NO2(GT)</th>\n",
              "      <th>PT08.S4(NO2)</th>\n",
              "      <th>PT08.S5(O3)</th>\n",
              "      <th>T</th>\n",
              "      <th>RH</th>\n",
              "      <th>AH</th>\n",
              "    </tr>\n",
              "  </thead>\n",
              "  <tbody>\n",
              "    <tr>\n",
              "      <th>0</th>\n",
              "      <td>2004-03-10</td>\n",
              "      <td>18:00:00</td>\n",
              "      <td>2.6</td>\n",
              "      <td>1360.00</td>\n",
              "      <td>150</td>\n",
              "      <td>11.881723</td>\n",
              "      <td>1045.50</td>\n",
              "      <td>166.0</td>\n",
              "      <td>1056.25</td>\n",
              "      <td>113.0</td>\n",
              "      <td>1692.00</td>\n",
              "      <td>1267.50</td>\n",
              "      <td>13.60</td>\n",
              "      <td>48.875001</td>\n",
              "      <td>0.757754</td>\n",
              "    </tr>\n",
              "    <tr>\n",
              "      <th>1</th>\n",
              "      <td>2004-03-10</td>\n",
              "      <td>19:00:00</td>\n",
              "      <td>2.0</td>\n",
              "      <td>1292.25</td>\n",
              "      <td>112</td>\n",
              "      <td>9.397165</td>\n",
              "      <td>954.75</td>\n",
              "      <td>103.0</td>\n",
              "      <td>1173.75</td>\n",
              "      <td>92.0</td>\n",
              "      <td>1558.75</td>\n",
              "      <td>972.25</td>\n",
              "      <td>13.30</td>\n",
              "      <td>47.700000</td>\n",
              "      <td>0.725487</td>\n",
              "    </tr>\n",
              "    <tr>\n",
              "      <th>2</th>\n",
              "      <td>2004-03-10</td>\n",
              "      <td>20:00:00</td>\n",
              "      <td>2.2</td>\n",
              "      <td>1402.00</td>\n",
              "      <td>88</td>\n",
              "      <td>8.997817</td>\n",
              "      <td>939.25</td>\n",
              "      <td>131.0</td>\n",
              "      <td>1140.00</td>\n",
              "      <td>114.0</td>\n",
              "      <td>1554.50</td>\n",
              "      <td>1074.00</td>\n",
              "      <td>11.90</td>\n",
              "      <td>53.975000</td>\n",
              "      <td>0.750239</td>\n",
              "    </tr>\n",
              "    <tr>\n",
              "      <th>3</th>\n",
              "      <td>2004-03-10</td>\n",
              "      <td>21:00:00</td>\n",
              "      <td>2.2</td>\n",
              "      <td>1375.50</td>\n",
              "      <td>80</td>\n",
              "      <td>9.228796</td>\n",
              "      <td>948.25</td>\n",
              "      <td>172.0</td>\n",
              "      <td>1092.00</td>\n",
              "      <td>122.0</td>\n",
              "      <td>1583.75</td>\n",
              "      <td>1203.25</td>\n",
              "      <td>11.00</td>\n",
              "      <td>60.000000</td>\n",
              "      <td>0.786713</td>\n",
              "    </tr>\n",
              "    <tr>\n",
              "      <th>4</th>\n",
              "      <td>2004-03-10</td>\n",
              "      <td>22:00:00</td>\n",
              "      <td>1.6</td>\n",
              "      <td>1272.25</td>\n",
              "      <td>51</td>\n",
              "      <td>6.518224</td>\n",
              "      <td>835.50</td>\n",
              "      <td>131.0</td>\n",
              "      <td>1205.00</td>\n",
              "      <td>116.0</td>\n",
              "      <td>1490.00</td>\n",
              "      <td>1110.00</td>\n",
              "      <td>11.15</td>\n",
              "      <td>59.575001</td>\n",
              "      <td>0.788794</td>\n",
              "    </tr>\n",
              "  </tbody>\n",
              "</table>\n",
              "</div>\n",
              "      <button class=\"colab-df-convert\" onclick=\"convertToInteractive('df-459cf976-298a-4e1f-a7e6-faf257f4f5eb')\"\n",
              "              title=\"Convert this dataframe to an interactive table.\"\n",
              "              style=\"display:none;\">\n",
              "        \n",
              "  <svg xmlns=\"http://www.w3.org/2000/svg\" height=\"24px\"viewBox=\"0 0 24 24\"\n",
              "       width=\"24px\">\n",
              "    <path d=\"M0 0h24v24H0V0z\" fill=\"none\"/>\n",
              "    <path d=\"M18.56 5.44l.94 2.06.94-2.06 2.06-.94-2.06-.94-.94-2.06-.94 2.06-2.06.94zm-11 1L8.5 8.5l.94-2.06 2.06-.94-2.06-.94L8.5 2.5l-.94 2.06-2.06.94zm10 10l.94 2.06.94-2.06 2.06-.94-2.06-.94-.94-2.06-.94 2.06-2.06.94z\"/><path d=\"M17.41 7.96l-1.37-1.37c-.4-.4-.92-.59-1.43-.59-.52 0-1.04.2-1.43.59L10.3 9.45l-7.72 7.72c-.78.78-.78 2.05 0 2.83L4 21.41c.39.39.9.59 1.41.59.51 0 1.02-.2 1.41-.59l7.78-7.78 2.81-2.81c.8-.78.8-2.07 0-2.86zM5.41 20L4 18.59l7.72-7.72 1.47 1.35L5.41 20z\"/>\n",
              "  </svg>\n",
              "      </button>\n",
              "      \n",
              "  <style>\n",
              "    .colab-df-container {\n",
              "      display:flex;\n",
              "      flex-wrap:wrap;\n",
              "      gap: 12px;\n",
              "    }\n",
              "\n",
              "    .colab-df-convert {\n",
              "      background-color: #E8F0FE;\n",
              "      border: none;\n",
              "      border-radius: 50%;\n",
              "      cursor: pointer;\n",
              "      display: none;\n",
              "      fill: #1967D2;\n",
              "      height: 32px;\n",
              "      padding: 0 0 0 0;\n",
              "      width: 32px;\n",
              "    }\n",
              "\n",
              "    .colab-df-convert:hover {\n",
              "      background-color: #E2EBFA;\n",
              "      box-shadow: 0px 1px 2px rgba(60, 64, 67, 0.3), 0px 1px 3px 1px rgba(60, 64, 67, 0.15);\n",
              "      fill: #174EA6;\n",
              "    }\n",
              "\n",
              "    [theme=dark] .colab-df-convert {\n",
              "      background-color: #3B4455;\n",
              "      fill: #D2E3FC;\n",
              "    }\n",
              "\n",
              "    [theme=dark] .colab-df-convert:hover {\n",
              "      background-color: #434B5C;\n",
              "      box-shadow: 0px 1px 3px 1px rgba(0, 0, 0, 0.15);\n",
              "      filter: drop-shadow(0px 1px 2px rgba(0, 0, 0, 0.3));\n",
              "      fill: #FFFFFF;\n",
              "    }\n",
              "  </style>\n",
              "\n",
              "      <script>\n",
              "        const buttonEl =\n",
              "          document.querySelector('#df-459cf976-298a-4e1f-a7e6-faf257f4f5eb button.colab-df-convert');\n",
              "        buttonEl.style.display =\n",
              "          google.colab.kernel.accessAllowed ? 'block' : 'none';\n",
              "\n",
              "        async function convertToInteractive(key) {\n",
              "          const element = document.querySelector('#df-459cf976-298a-4e1f-a7e6-faf257f4f5eb');\n",
              "          const dataTable =\n",
              "            await google.colab.kernel.invokeFunction('convertToInteractive',\n",
              "                                                     [key], {});\n",
              "          if (!dataTable) return;\n",
              "\n",
              "          const docLinkHtml = 'Like what you see? Visit the ' +\n",
              "            '<a target=\"_blank\" href=https://colab.research.google.com/notebooks/data_table.ipynb>data table notebook</a>'\n",
              "            + ' to learn more about interactive tables.';\n",
              "          element.innerHTML = '';\n",
              "          dataTable['output_type'] = 'display_data';\n",
              "          await google.colab.output.renderOutput(dataTable, element);\n",
              "          const docLink = document.createElement('div');\n",
              "          docLink.innerHTML = docLinkHtml;\n",
              "          element.appendChild(docLink);\n",
              "        }\n",
              "      </script>\n",
              "    </div>\n",
              "  </div>\n",
              "  "
            ]
          },
          "metadata": {},
          "execution_count": 7
        }
      ]
    },
    {
      "cell_type": "markdown",
      "source": [
        "*Đây là tập dữ liệu về chất lượng không khí ghi nhận tại một trạm quan trắc ở Ý. BAo gồm nhiều thuộc tính như nồng độ khí, nhiệt độ, độ ẩm,..*"
      ],
      "metadata": {
        "id": "-Nkc9unR8E6B"
      }
    },
    {
      "cell_type": "code",
      "source": [
        "# Kiểm tra lớp cho từng thuộc tính trong bảng\n",
        "class_counts = df[\"PT08.S1(CO)\"].value_counts()\n",
        "print(class_counts)"
      ],
      "metadata": {
        "colab": {
          "base_uri": "https://localhost:8080/"
        },
        "id": "2LPJ97KQKpFE",
        "outputId": "8253786b-cac1-444e-9ab0-3793434fc866"
      },
      "execution_count": 66,
      "outputs": [
        {
          "output_type": "stream",
          "name": "stdout",
          "text": [
            "-200.000000     366\n",
            " 1099.500000     12\n",
            " 954.250000      12\n",
            " 986.750000      12\n",
            " 888.000000      11\n",
            "               ... \n",
            " 808.000000       1\n",
            " 834.333333       1\n",
            " 891.666667       1\n",
            " 748.500000       1\n",
            " 1314.250000      1\n",
            "Name: PT08.S1(CO), Length: 3246, dtype: int64\n"
          ]
        }
      ]
    },
    {
      "cell_type": "code",
      "source": [
        "# Kiểm tra kiểu dữ liệu \n",
        "# Nếu kết quả ra dưới dạng kiểu dữ liệu là float hoặc int là kiểu dữ liệu liên tục\n",
        "print(df[\"NMHC(GT)\"].dtypes)"
      ],
      "metadata": {
        "colab": {
          "base_uri": "https://localhost:8080/"
        },
        "id": "8PtdFR4qR5pZ",
        "outputId": "33afaf51-a9c7-49bc-a69d-483015b282bc"
      },
      "execution_count": 84,
      "outputs": [
        {
          "output_type": "stream",
          "name": "stdout",
          "text": [
            "int64\n"
          ]
        }
      ]
    },
    {
      "cell_type": "markdown",
      "source": [
        "Chia sẻ thành tập huấn luyện và kiểm tra: \n"
      ],
      "metadata": {
        "id": "PIkmGOUM8oP6"
      }
    },
    {
      "cell_type": "code",
      "source": [
        "from sklearn.model_selection import train_test_split"
      ],
      "metadata": {
        "id": "HT-BImEN8bND"
      },
      "execution_count": 8,
      "outputs": []
    },
    {
      "cell_type": "code",
      "source": [
        "#Xoá các hàng có giá tị thiếu\n",
        "data = df.dropna()\n",
        "# Xoá các cột không cần thiết và cột nhãn \n",
        "X = data.drop(['Date',\"Time\"], axis=1)\n",
        "\n",
        "# Test\n",
        "y= data[\"Date\"]\n",
        "#print(y)"
      ],
      "metadata": {
        "id": "c0j5GwC29fiU"
      },
      "execution_count": 71,
      "outputs": []
    },
    {
      "cell_type": "markdown",
      "source": [
        "  - ở đây ta sử dụng hàm ***train_test_split*** từ một modun skleản.model_selection để có thể chia dữ liệu thành hai tập: \n",
        "    - Tập huấn luyện (X_train, y_train)\n",
        "    - Tập kiểm tra (X_test, y_test)\n",
        "  - Tham số ***stratify=y*** điều này đảm bảo rằng phân phối các lớp trong dữ liệu được giữ nguyên trong cả tập huấn luyện và tập kiểm tra.\n",
        "  - Tham số ***test_size*** điều này xác định tỷ lệ dữ liệu được chia cho tệp kiểm tra( Trong trường hợp này là 30%)\n",
        "  - Tham số ***random_state = 42*** là một giá trị để đảm bảo kết quả chia dữ liệu như nhau mỗi lần chạy."
      ],
      "metadata": {
        "id": "f9mzV82_ATl_"
      }
    },
    {
      "cell_type": "code",
      "source": [
        "# Chia dư liệu thành tập huấn luyện và tập kiếm tra\n",
        "X_train, X_test, y_train, y_test = train_test_split(X, y, stratify=y, test_size=0.3, random_state=42)"
      ],
      "metadata": {
        "id": "p9HcFM9t-EFX"
      },
      "execution_count": 72,
      "outputs": []
    },
    {
      "cell_type": "markdown",
      "source": [
        "4. KNN classifier:\n"
      ],
      "metadata": {
        "id": "sGEguG1YAecY"
      }
    },
    {
      "cell_type": "code",
      "source": [
        "from sklearn.neighbors import KNeighborsClassifier\n",
        "from sklearn.metrics import accuracy_score, confusion_matrix, precision_score , recall_score, f1_score"
      ],
      "metadata": {
        "id": "Xv6JCFCoASWV"
      },
      "execution_count": 73,
      "outputs": []
    },
    {
      "cell_type": "code",
      "source": [
        "# Xây dựng và đào tạo mô hình K-NN\n",
        "\n",
        "# Khởi tạo mô hình K-NN\n",
        "k=5\n",
        "knn = KNeighborsClassifier(n_neighbors=k)\n",
        "# Huấn luyện mô hình trên tập huấn luyện\n",
        "knn.fit(X_train, y_train)\n",
        "\n",
        "# Dự đoán nhãn cho tập kiểm tra\n",
        "y_predicted = knn.predict(X_test)\n",
        "\n",
        "#Đánh giá hiệu suất của mô hình:\n",
        "\n",
        "# Tính toán độ chính xác\n",
        "accuracy = accuracy_score(y_test, y_predicted)\n",
        "\n",
        "# Tính toán ma trận nhầm lẫn\n",
        "confustion_mtx = confusion_matrix(y_test, y_predicted)\n",
        "\n",
        "# Tiếp tục tính toán precition, recall,và cuối cùng là f1_score\n",
        "precision = precision_score(y_test, y_predicted, average=None)\n",
        "recall = recall_score(y_test , y_predicted, average=None)\n",
        "f1 = f1_score(y_test, y_predicted, average =None)"
      ],
      "metadata": {
        "colab": {
          "base_uri": "https://localhost:8080/"
        },
        "id": "ba3vvuoaBcj_",
        "outputId": "f098c53f-d2dd-4333-bcc3-344ee814ec44"
      },
      "execution_count": 74,
      "outputs": [
        {
          "output_type": "stream",
          "name": "stderr",
          "text": [
            "/usr/local/lib/python3.10/dist-packages/sklearn/metrics/_classification.py:1344: UndefinedMetricWarning: Precision is ill-defined and being set to 0.0 in labels with no predicted samples. Use `zero_division` parameter to control this behavior.\n",
            "  _warn_prf(average, modifier, msg_start, len(result))\n"
          ]
        }
      ]
    },
    {
      "cell_type": "code",
      "source": [
        "print(\"accuracy:\" , accuracy)\n",
        "print(\"confustion_mtx\", confustion_mtx)\n",
        "print(\"precision:\", precision)\n",
        "print(\"recallrecall: \", recall)\n",
        "print(\"f1: \" , f1 )"
      ],
      "metadata": {
        "colab": {
          "base_uri": "https://localhost:8080/"
        },
        "id": "ShlbPek7IcfF",
        "outputId": "1ac8cea4-d001-40e7-cf97-9954f1410530"
      },
      "execution_count": 75,
      "outputs": [
        {
          "output_type": "stream",
          "name": "stdout",
          "text": [
            "accuracy: 0.2329059829059829\n",
            "confustion_mtx [[0 1 0 ... 0 0 0]\n",
            " [0 4 2 ... 0 0 0]\n",
            " [0 1 2 ... 0 0 0]\n",
            " ...\n",
            " [0 0 0 ... 3 0 0]\n",
            " [0 0 0 ... 1 1 0]\n",
            " [0 0 0 ... 0 0 0]]\n",
            "precision: [0.         0.5        0.18181818 0.23076923 0.         0.33333333\n",
            " 0.08333333 0.         0.33333333 0.3        0.33333333 0.28571429\n",
            " 0.15789474 0.         0.         0.06666667 0.23076923 0.\n",
            " 0.         0.66666667 0.5        0.23076923 0.07142857 0.25\n",
            " 0.44444444 0.55555556 0.         0.         0.         0.\n",
            " 0.75       0.         0.5        0.42857143 0.         0.14285714\n",
            " 0.         0.28571429 0.16666667 0.2        0.375      0.07692308\n",
            " 0.22222222 0.375      0.25       0.33333333 0.5        0.33333333\n",
            " 0.2        0.66666667 0.         0.6        0.14285714 0.125\n",
            " 0.         0.18181818 0.11111111 0.         0.         0.2\n",
            " 0.25       0.         0.06666667 0.08333333 0.18181818 0.07142857\n",
            " 0.         0.         0.11111111 0.125      0.2        0.\n",
            " 0.14285714 0.125      0.14285714 0.5        1.         0.8\n",
            " 0.8        0.         0.44444444 0.66666667 0.16666667 0.5\n",
            " 0.83333333 0.25       0.83333333 0.2        0.6        0.42857143\n",
            " 0.06666667 0.         0.14285714 0.         0.15384615 0.375\n",
            " 0.57142857 0.16666667 0.18181818 0.25       0.         0.\n",
            " 0.35714286 0.33333333 0.         0.         0.375      0.25\n",
            " 0.25       0.16666667 0.         0.07692308 0.         0.\n",
            " 0.         0.25       0.         0.         0.         0.\n",
            " 0.18181818 0.25       0.33333333 0.09090909 0.5        0.33333333\n",
            " 0.75       0.25       0.         0.2        0.         0.25\n",
            " 0.33333333 0.28571429 0.         0.         0.4        0.375\n",
            " 0.22222222 0.375      0.5        0.33333333 0.42857143 0.\n",
            " 0.         0.5        0.5        0.         0.14285714 0.2\n",
            " 0.         0.14285714 0.33333333 0.         0.25       0.5\n",
            " 0.5        0.         0.22222222 0.         0.28571429 0.375\n",
            " 0.18181818 0.66666667 0.75       0.3        0.4        0.66666667\n",
            " 0.33333333 0.36363636 0.         0.         0.4        0.28571429\n",
            " 0.375      0.33333333 0.28571429 0.         0.5        0.44444444\n",
            " 0.42857143 0.25       0.55555556 0.33333333 0.16666667 0.42857143\n",
            " 1.         0.14285714 0.2        0.5        0.375      0.33333333\n",
            " 0.375      0.14285714 0.         0.         0.33333333 0.3\n",
            " 0.         0.375      0.3        0.         1.         0.\n",
            " 0.125      0.0625     0.25       0.42857143 0.16666667 0.125\n",
            " 0.66666667 0.         0.         0.57142857 0.36363636 0.28571429\n",
            " 0.11111111 0.4        0.5        0.25       0.33333333 0.6\n",
            " 0.14285714 0.16666667 0.2        0.33333333 0.         0.\n",
            " 0.         0.11111111 0.         0.2        0.07142857 0.16666667\n",
            " 0.14285714 0.         0.33333333 0.         0.5        0.5\n",
            " 0.25       0.4        0.5        0.5        0.6        0.27272727\n",
            " 0.         0.42857143 0.05555556 0.33333333 0.5        0.14285714\n",
            " 0.05882353 0.08333333 0.         0.28571429 0.15384615 0.1875\n",
            " 0.23076923 0.08333333 0.4        0.         0.5        0.375\n",
            " 0.25       0.5        0.7        0.125      0.5        0.57142857\n",
            " 0.36363636 0.6        0.         0.3        0.66666667 0.36363636\n",
            " 0.         0.09090909 0.         0.25       0.16666667 0.27272727\n",
            " 0.1        0.         0.27272727 0.25       0.25       0.16666667\n",
            " 0.16666667 0.26666667 0.375      0.         0.         0.6\n",
            " 0.6        0.3125     0.33333333 0.15789474 0.09090909 0.42857143\n",
            " 0.2        0.375      0.3        0.         0.18181818 0.11111111\n",
            " 0.125      0.41666667 0.14285714 0.         0.375      0.2\n",
            " 0.08333333 0.2        0.33333333 0.         0.14285714 0.\n",
            " 0.         0.46153846 0.         0.26666667 0.14285714 0.14285714\n",
            " 0.         0.25       0.28571429 0.14285714 0.28571429 0.42857143\n",
            " 0.16666667 0.         0.4        0.         0.         0.\n",
            " 0.375      0.         0.66666667 0.375      0.25       0.33333333\n",
            " 0.16666667 0.         0.         0.         0.42857143 0.28571429\n",
            " 0.14285714 0.33333333 0.66666667 0.         0.1        0.\n",
            " 0.25       0.42857143 0.         0.         0.2        0.66666667\n",
            " 0.2        0.         0.33333333 0.25       0.         0.33333333\n",
            " 0.16666667 0.25       0.75       0.16666667 0.16666667 0.\n",
            " 0.         0.33333333 0.22222222 0.2        0.         0.\n",
            " 0.4        0.33333333 0.5        0.42857143 0.6        0.625\n",
            " 0.         0.         0.5        0.         0.5        0.5\n",
            " 0.        ]\n",
            "recallrecall:  [0.         0.57142857 0.25       0.42857143 0.         0.42857143\n",
            " 0.14285714 0.         0.28571429 0.42857143 0.14285714 0.28571429\n",
            " 0.42857143 0.         0.         0.14285714 0.42857143 0.\n",
            " 0.         0.57142857 0.28571429 0.375      0.125      0.28571429\n",
            " 0.57142857 0.71428571 0.         0.         0.         0.\n",
            " 0.85714286 0.         0.42857143 0.42857143 0.         0.125\n",
            " 0.         0.28571429 0.42857143 0.14285714 0.42857143 0.14285714\n",
            " 0.28571429 0.42857143 0.125      0.14285714 0.28571429 0.14285714\n",
            " 0.14285714 0.25       0.         0.375      0.57142857 0.25\n",
            " 0.         0.25       0.14285714 0.         0.         0.25\n",
            " 0.14285714 0.         0.14285714 0.14285714 0.28571429 0.14285714\n",
            " 0.         0.         0.14285714 0.14285714 0.14285714 0.\n",
            " 0.125      0.14285714 0.14285714 0.57142857 0.14285714 0.57142857\n",
            " 0.57142857 0.         0.57142857 0.25       0.14285714 0.57142857\n",
            " 0.71428571 0.14285714 0.71428571 0.28571429 0.375      0.375\n",
            " 0.14285714 0.         0.125      0.         0.28571429 0.85714286\n",
            " 0.57142857 0.28571429 0.28571429 0.28571429 0.         0.\n",
            " 0.71428571 0.125      0.         0.         0.375      0.125\n",
            " 0.14285714 0.14285714 0.         0.14285714 0.         0.\n",
            " 0.         0.28571429 0.         0.         0.         0.\n",
            " 0.28571429 0.14285714 0.25       0.14285714 0.28571429 0.14285714\n",
            " 0.42857143 0.14285714 0.         0.14285714 0.         0.125\n",
            " 0.28571429 0.28571429 0.         0.         0.28571429 0.42857143\n",
            " 0.28571429 0.42857143 0.57142857 0.14285714 0.42857143 0.\n",
            " 0.         0.57142857 0.42857143 0.         0.14285714 0.14285714\n",
            " 0.         0.14285714 0.375      0.         0.14285714 0.42857143\n",
            " 0.14285714 0.         0.28571429 0.         0.28571429 0.375\n",
            " 0.25       0.85714286 0.42857143 0.42857143 0.28571429 0.25\n",
            " 0.28571429 0.57142857 0.         0.         0.57142857 0.28571429\n",
            " 0.42857143 0.125      0.28571429 0.         1.         0.57142857\n",
            " 0.42857143 0.28571429 0.71428571 0.28571429 0.14285714 0.42857143\n",
            " 0.28571429 0.14285714 0.125      0.625      0.375      0.25\n",
            " 0.375      0.14285714 0.         0.         0.28571429 0.42857143\n",
            " 0.         0.42857143 0.42857143 0.         0.25       0.\n",
            " 0.28571429 0.14285714 0.625      0.42857143 0.14285714 0.14285714\n",
            " 0.28571429 0.         0.         0.5        0.57142857 0.25\n",
            " 0.14285714 0.57142857 0.375      0.14285714 0.28571429 0.42857143\n",
            " 0.14285714 0.14285714 0.28571429 0.28571429 0.         0.\n",
            " 0.         0.14285714 0.         0.14285714 0.14285714 0.14285714\n",
            " 0.14285714 0.         0.125      0.         0.14285714 0.14285714\n",
            " 0.28571429 0.57142857 0.75       0.42857143 0.375      0.42857143\n",
            " 0.         0.42857143 0.14285714 0.57142857 0.28571429 0.14285714\n",
            " 0.125      0.125      0.         0.28571429 0.28571429 0.42857143\n",
            " 0.375      0.14285714 0.5        0.         0.28571429 0.42857143\n",
            " 0.125      0.375      1.         0.14285714 0.14285714 0.57142857\n",
            " 0.5        0.375      0.         0.42857143 0.25       0.57142857\n",
            " 0.         0.125      0.         0.14285714 0.14285714 0.42857143\n",
            " 0.14285714 0.         0.42857143 0.14285714 0.14285714 0.14285714\n",
            " 0.28571429 0.57142857 0.42857143 0.         0.         0.42857143\n",
            " 0.75       0.71428571 0.125      0.42857143 0.14285714 0.42857143\n",
            " 0.14285714 0.42857143 0.42857143 0.         0.25       0.14285714\n",
            " 0.14285714 0.625      0.14285714 0.         0.375      0.14285714\n",
            " 0.14285714 0.28571429 0.25       0.         0.125      0.\n",
            " 0.         0.85714286 0.         0.57142857 0.28571429 0.14285714\n",
            " 0.         0.57142857 0.28571429 0.14285714 0.28571429 0.375\n",
            " 0.14285714 0.         0.57142857 0.         0.         0.\n",
            " 0.42857143 0.         0.28571429 0.42857143 0.14285714 0.14285714\n",
            " 0.14285714 0.         0.         0.         0.42857143 0.28571429\n",
            " 0.14285714 0.125      0.28571429 0.         0.14285714 0.\n",
            " 0.125      0.375      0.         0.         0.14285714 0.28571429\n",
            " 0.125      0.         0.14285714 0.14285714 0.         0.14285714\n",
            " 0.14285714 0.42857143 0.42857143 0.14285714 0.14285714 0.\n",
            " 0.         0.125      0.28571429 0.14285714 0.         0.\n",
            " 0.28571429 0.28571429 0.25       0.42857143 0.42857143 0.625\n",
            " 0.         0.         0.28571429 0.         0.42857143 0.125\n",
            " 0.        ]\n",
            "f1:  [0.         0.53333333 0.21052632 0.3        0.         0.375\n",
            " 0.10526316 0.         0.30769231 0.35294118 0.2        0.28571429\n",
            " 0.23076923 0.         0.         0.09090909 0.3        0.\n",
            " 0.         0.61538462 0.36363636 0.28571429 0.09090909 0.26666667\n",
            " 0.5        0.625      0.         0.         0.         0.\n",
            " 0.8        0.         0.46153846 0.42857143 0.         0.13333333\n",
            " 0.         0.28571429 0.24       0.16666667 0.4        0.1\n",
            " 0.25       0.4        0.16666667 0.2        0.36363636 0.2\n",
            " 0.16666667 0.36363636 0.         0.46153846 0.22857143 0.16666667\n",
            " 0.         0.21052632 0.125      0.         0.         0.22222222\n",
            " 0.18181818 0.         0.09090909 0.10526316 0.22222222 0.0952381\n",
            " 0.         0.         0.125      0.13333333 0.16666667 0.\n",
            " 0.13333333 0.13333333 0.14285714 0.53333333 0.25       0.66666667\n",
            " 0.66666667 0.         0.5        0.36363636 0.15384615 0.53333333\n",
            " 0.76923077 0.18181818 0.76923077 0.23529412 0.46153846 0.4\n",
            " 0.09090909 0.         0.13333333 0.         0.2        0.52173913\n",
            " 0.57142857 0.21052632 0.22222222 0.26666667 0.         0.\n",
            " 0.47619048 0.18181818 0.         0.         0.375      0.16666667\n",
            " 0.18181818 0.15384615 0.         0.1        0.         0.\n",
            " 0.         0.26666667 0.         0.         0.         0.\n",
            " 0.22222222 0.18181818 0.28571429 0.11111111 0.36363636 0.2\n",
            " 0.54545455 0.18181818 0.         0.16666667 0.         0.16666667\n",
            " 0.30769231 0.28571429 0.         0.         0.33333333 0.4\n",
            " 0.25       0.4        0.53333333 0.2        0.42857143 0.\n",
            " 0.         0.53333333 0.46153846 0.         0.14285714 0.16666667\n",
            " 0.         0.14285714 0.35294118 0.         0.18181818 0.46153846\n",
            " 0.22222222 0.         0.25       0.         0.28571429 0.375\n",
            " 0.21052632 0.75       0.54545455 0.35294118 0.33333333 0.36363636\n",
            " 0.30769231 0.44444444 0.         0.         0.47058824 0.28571429\n",
            " 0.4        0.18181818 0.28571429 0.         0.66666667 0.5\n",
            " 0.42857143 0.26666667 0.625      0.30769231 0.15384615 0.42857143\n",
            " 0.44444444 0.14285714 0.15384615 0.55555556 0.375      0.28571429\n",
            " 0.375      0.14285714 0.         0.         0.30769231 0.35294118\n",
            " 0.         0.4        0.35294118 0.         0.4        0.\n",
            " 0.17391304 0.08695652 0.35714286 0.42857143 0.15384615 0.13333333\n",
            " 0.4        0.         0.         0.53333333 0.44444444 0.26666667\n",
            " 0.125      0.47058824 0.42857143 0.18181818 0.30769231 0.5\n",
            " 0.14285714 0.15384615 0.23529412 0.30769231 0.         0.\n",
            " 0.         0.125      0.         0.16666667 0.0952381  0.15384615\n",
            " 0.14285714 0.         0.18181818 0.         0.22222222 0.22222222\n",
            " 0.26666667 0.47058824 0.6        0.46153846 0.46153846 0.33333333\n",
            " 0.         0.42857143 0.08       0.42105263 0.36363636 0.14285714\n",
            " 0.08       0.1        0.         0.28571429 0.2        0.26086957\n",
            " 0.28571429 0.10526316 0.44444444 0.         0.36363636 0.4\n",
            " 0.16666667 0.42857143 0.82352941 0.13333333 0.22222222 0.57142857\n",
            " 0.42105263 0.46153846 0.         0.35294118 0.36363636 0.44444444\n",
            " 0.         0.10526316 0.         0.18181818 0.15384615 0.33333333\n",
            " 0.11764706 0.         0.33333333 0.18181818 0.18181818 0.15384615\n",
            " 0.21052632 0.36363636 0.4        0.         0.         0.5\n",
            " 0.66666667 0.43478261 0.18181818 0.23076923 0.11111111 0.42857143\n",
            " 0.16666667 0.4        0.35294118 0.         0.21052632 0.125\n",
            " 0.13333333 0.5        0.14285714 0.         0.375      0.16666667\n",
            " 0.10526316 0.23529412 0.28571429 0.         0.13333333 0.\n",
            " 0.         0.6        0.         0.36363636 0.19047619 0.14285714\n",
            " 0.         0.34782609 0.28571429 0.14285714 0.28571429 0.4\n",
            " 0.15384615 0.         0.47058824 0.         0.         0.\n",
            " 0.4        0.         0.4        0.4        0.18181818 0.2\n",
            " 0.15384615 0.         0.         0.         0.42857143 0.28571429\n",
            " 0.14285714 0.18181818 0.4        0.         0.11764706 0.\n",
            " 0.16666667 0.4        0.         0.         0.16666667 0.4\n",
            " 0.15384615 0.         0.2        0.18181818 0.         0.2\n",
            " 0.15384615 0.31578947 0.54545455 0.15384615 0.15384615 0.\n",
            " 0.         0.18181818 0.25       0.16666667 0.         0.\n",
            " 0.33333333 0.30769231 0.33333333 0.42857143 0.5        0.625\n",
            " 0.         0.         0.36363636 0.         0.46153846 0.2\n",
            " 0.        ]\n"
          ]
        }
      ]
    },
    {
      "cell_type": "markdown",
      "source": [
        "# Xử lý số lượng lớp trong thuộc tính quá lớn\n",
        "- Gom nhóm(Clustering): Sử dụng phương pháp giom nhóm để nhóm các lớp tương đồng lại với nhau. Bằng cách này ta có thẻ giảm số lượng lớp ban đầu thành một số lượng nhóm nhỏ hơn và sau đó có thể áp dụng thuật toians K-NN trên các nhóm nhỏ hơn . Điều này có thể giúp giảm độ phức tạp và cải thiện hiệu suất của K-NN\n",
        "\n",
        "- Giảm chiều dữ liệu ( Dimensionality reduction): Sử dụng các phương pháp giảm chiều dữ liệu như PCA (Principal Component Analysis) hoặc t-SNE( t- Distributed Stochastic Neighbor Embedding) để giảm số chiều hoặc giảm thiểu sự trùng lặp giữa các lớp, từ đó giảm số lượng lớp và cải thiện hiệu suất của K-NN\n",
        "\n",
        "- Lựa chọn các tập con quan trọng: Thay vì làm việc toàn bộ số lượng lớp, ta có thể xem sét chỉ lựa chọn một tập con các lớp quan trọng hoặc các lớp có số lượng mẫu lớn hơn. Bằng cách này, ta có thể tập trung vào các lớp quan trọng hơn và giảmsố lương lớp cần xử lý.\n"
      ],
      "metadata": {
        "id": "Yxb1FMPTMpNH"
      }
    },
    {
      "cell_type": "code",
      "source": [],
      "metadata": {
        "id": "1yv9bOkXUuZS"
      },
      "execution_count": null,
      "outputs": []
    },
    {
      "cell_type": "markdown",
      "source": [
        "**Chú ý**\n",
        "\n",
        "***Thuật toán K-NN yêu cầu các nhãn của các mẫu là phải dưới dạng rời rạc(discrete) ***\n",
        "\n",
        "**Nếu vẫn muốn sử thuật toán K-NN này thì phải chuyển dổi từ dạng liên tục (contiuous) thành một bài toán phân loại với các nhãn rời rạc để có thể sử dụng được thuật toán K-NN **"
      ],
      "metadata": {
        "id": "BaflshLGT0cb"
      }
    },
    {
      "cell_type": "code",
      "source": [
        "# Đoạn mã này sử dụng phương pháp gom nhóm(Clustering) \n",
        "# sử dụng vào tập dữ liệu X_train\n",
        "# Ở đây đang bị lỗi vì cột dữ liệu CO(GT) này đang ở dưới dạng liên tục (Continuous)\n",
        "from sklearn.cluster import KMeans\n",
        "from sklearn.neighbors import KNeighborsClassifier\n",
        "from sklearn.model_selection import train_test_split\n",
        "\n",
        "# Xoá các hàng có giá trị thiếu\n",
        "data = df.dropna()\n",
        "\n",
        "# Xoá các cột không cần thiết và cột nhãn\n",
        "X = data.drop(['CO(GT)' , \"Date\", \"Time\"], axis=1)\n",
        "y = data[\"CO(GT)\"]\n",
        "\n",
        "# Áp dụng phương pháp gom nhóm\n",
        "kmeans = KMeans(n_clusters=5)  # Giả sử chọn số nhóm là 5\n",
        "cluster_labels = kmeans.fit_predict(X)\n",
        "\n",
        "# Chia dữ liệu thành tập huấn luyện và tập kiểm tra\n",
        "X_train, X_test, y_train, y_test = train_test_split(X, y, test_size=0.3, random_state=42)\n",
        "\n",
        "# Thêm cột \"cluster_label\" vào tập huấn luyện\n",
        "X_train[\"cluster_label\"] = cluster_labels[:len(X_train)]\n",
        "\n",
        "# Lựa chọn các mẫu từ các nhóm quan trọng\n",
        "important_clusters = X_train[\"cluster_label\"].value_counts().head(3).index\n",
        "X_train_selected = X_train[X_train[\"cluster_label\"].isin(important_clusters)]\n",
        "y_train_selected = y_train[X_train[\"cluster_label\"].isin(important_clusters)]\n",
        "\n",
        "# Huấn luyện mô hình K-NN trên tập dữ liệu đã lựa chọn\n",
        "k = 3  # Số lượng láng giềng gần nhất\n",
        "knn = KNeighborsClassifier(n_neighbors=k)\n",
        "knn.fit(X_train_selected, y_train_selected)\n",
        "\n",
        "# Đánh giá mô hình trên tập kiểm tra\n",
        "accuracy = knn.score(X_test, y_test)\n",
        "print(\"Accuracy:\", accuracy)\n"
      ],
      "metadata": {
        "colab": {
          "base_uri": "https://localhost:8080/",
          "height": 436
        },
        "id": "_0cmPs4xO7PR",
        "outputId": "5ef4cb62-d039-4e53-dd4f-a56a32031efc"
      },
      "execution_count": 78,
      "outputs": [
        {
          "output_type": "stream",
          "name": "stderr",
          "text": [
            "/usr/local/lib/python3.10/dist-packages/sklearn/cluster/_kmeans.py:870: FutureWarning: The default value of `n_init` will change from 10 to 'auto' in 1.4. Set the value of `n_init` explicitly to suppress the warning\n",
            "  warnings.warn(\n"
          ]
        },
        {
          "output_type": "error",
          "ename": "ValueError",
          "evalue": "ignored",
          "traceback": [
            "\u001b[0;31m---------------------------------------------------------------------------\u001b[0m",
            "\u001b[0;31mValueError\u001b[0m                                Traceback (most recent call last)",
            "\u001b[0;32m<ipython-input-78-4179ab73a1db>\u001b[0m in \u001b[0;36m<cell line: 30>\u001b[0;34m()\u001b[0m\n\u001b[1;32m     28\u001b[0m \u001b[0mk\u001b[0m \u001b[0;34m=\u001b[0m \u001b[0;36m3\u001b[0m  \u001b[0;31m# Số lượng láng giềng gần nhất\u001b[0m\u001b[0;34m\u001b[0m\u001b[0;34m\u001b[0m\u001b[0m\n\u001b[1;32m     29\u001b[0m \u001b[0mknn\u001b[0m \u001b[0;34m=\u001b[0m \u001b[0mKNeighborsClassifier\u001b[0m\u001b[0;34m(\u001b[0m\u001b[0mn_neighbors\u001b[0m\u001b[0;34m=\u001b[0m\u001b[0mk\u001b[0m\u001b[0;34m)\u001b[0m\u001b[0;34m\u001b[0m\u001b[0;34m\u001b[0m\u001b[0m\n\u001b[0;32m---> 30\u001b[0;31m \u001b[0mknn\u001b[0m\u001b[0;34m.\u001b[0m\u001b[0mfit\u001b[0m\u001b[0;34m(\u001b[0m\u001b[0mX_train_selected\u001b[0m\u001b[0;34m,\u001b[0m \u001b[0my_train_selected\u001b[0m\u001b[0;34m)\u001b[0m\u001b[0;34m\u001b[0m\u001b[0;34m\u001b[0m\u001b[0m\n\u001b[0m\u001b[1;32m     31\u001b[0m \u001b[0;34m\u001b[0m\u001b[0m\n\u001b[1;32m     32\u001b[0m \u001b[0;31m# Đánh giá mô hình trên tập kiểm tra\u001b[0m\u001b[0;34m\u001b[0m\u001b[0;34m\u001b[0m\u001b[0m\n",
            "\u001b[0;32m/usr/local/lib/python3.10/dist-packages/sklearn/neighbors/_classification.py\u001b[0m in \u001b[0;36mfit\u001b[0;34m(self, X, y)\u001b[0m\n\u001b[1;32m    213\u001b[0m         \u001b[0mself\u001b[0m\u001b[0;34m.\u001b[0m\u001b[0m_validate_params\u001b[0m\u001b[0;34m(\u001b[0m\u001b[0;34m)\u001b[0m\u001b[0;34m\u001b[0m\u001b[0;34m\u001b[0m\u001b[0m\n\u001b[1;32m    214\u001b[0m \u001b[0;34m\u001b[0m\u001b[0m\n\u001b[0;32m--> 215\u001b[0;31m         \u001b[0;32mreturn\u001b[0m \u001b[0mself\u001b[0m\u001b[0;34m.\u001b[0m\u001b[0m_fit\u001b[0m\u001b[0;34m(\u001b[0m\u001b[0mX\u001b[0m\u001b[0;34m,\u001b[0m \u001b[0my\u001b[0m\u001b[0;34m)\u001b[0m\u001b[0;34m\u001b[0m\u001b[0;34m\u001b[0m\u001b[0m\n\u001b[0m\u001b[1;32m    216\u001b[0m \u001b[0;34m\u001b[0m\u001b[0m\n\u001b[1;32m    217\u001b[0m     \u001b[0;32mdef\u001b[0m \u001b[0mpredict\u001b[0m\u001b[0;34m(\u001b[0m\u001b[0mself\u001b[0m\u001b[0;34m,\u001b[0m \u001b[0mX\u001b[0m\u001b[0;34m)\u001b[0m\u001b[0;34m:\u001b[0m\u001b[0;34m\u001b[0m\u001b[0;34m\u001b[0m\u001b[0m\n",
            "\u001b[0;32m/usr/local/lib/python3.10/dist-packages/sklearn/neighbors/_base.py\u001b[0m in \u001b[0;36m_fit\u001b[0;34m(self, X, y)\u001b[0m\n\u001b[1;32m    474\u001b[0m                     \u001b[0mself\u001b[0m\u001b[0;34m.\u001b[0m\u001b[0moutputs_2d_\u001b[0m \u001b[0;34m=\u001b[0m \u001b[0;32mTrue\u001b[0m\u001b[0;34m\u001b[0m\u001b[0;34m\u001b[0m\u001b[0m\n\u001b[1;32m    475\u001b[0m \u001b[0;34m\u001b[0m\u001b[0m\n\u001b[0;32m--> 476\u001b[0;31m                 \u001b[0mcheck_classification_targets\u001b[0m\u001b[0;34m(\u001b[0m\u001b[0my\u001b[0m\u001b[0;34m)\u001b[0m\u001b[0;34m\u001b[0m\u001b[0;34m\u001b[0m\u001b[0m\n\u001b[0m\u001b[1;32m    477\u001b[0m                 \u001b[0mself\u001b[0m\u001b[0;34m.\u001b[0m\u001b[0mclasses_\u001b[0m \u001b[0;34m=\u001b[0m \u001b[0;34m[\u001b[0m\u001b[0;34m]\u001b[0m\u001b[0;34m\u001b[0m\u001b[0;34m\u001b[0m\u001b[0m\n\u001b[1;32m    478\u001b[0m                 \u001b[0mself\u001b[0m\u001b[0;34m.\u001b[0m\u001b[0m_y\u001b[0m \u001b[0;34m=\u001b[0m \u001b[0mnp\u001b[0m\u001b[0;34m.\u001b[0m\u001b[0mempty\u001b[0m\u001b[0;34m(\u001b[0m\u001b[0my\u001b[0m\u001b[0;34m.\u001b[0m\u001b[0mshape\u001b[0m\u001b[0;34m,\u001b[0m \u001b[0mdtype\u001b[0m\u001b[0;34m=\u001b[0m\u001b[0mint\u001b[0m\u001b[0;34m)\u001b[0m\u001b[0;34m\u001b[0m\u001b[0;34m\u001b[0m\u001b[0m\n",
            "\u001b[0;32m/usr/local/lib/python3.10/dist-packages/sklearn/utils/multiclass.py\u001b[0m in \u001b[0;36mcheck_classification_targets\u001b[0;34m(y)\u001b[0m\n\u001b[1;32m    216\u001b[0m         \u001b[0;34m\"multilabel-sequences\"\u001b[0m\u001b[0;34m,\u001b[0m\u001b[0;34m\u001b[0m\u001b[0;34m\u001b[0m\u001b[0m\n\u001b[1;32m    217\u001b[0m     ]:\n\u001b[0;32m--> 218\u001b[0;31m         \u001b[0;32mraise\u001b[0m \u001b[0mValueError\u001b[0m\u001b[0;34m(\u001b[0m\u001b[0;34m\"Unknown label type: %r\"\u001b[0m \u001b[0;34m%\u001b[0m \u001b[0my_type\u001b[0m\u001b[0;34m)\u001b[0m\u001b[0;34m\u001b[0m\u001b[0;34m\u001b[0m\u001b[0m\n\u001b[0m\u001b[1;32m    219\u001b[0m \u001b[0;34m\u001b[0m\u001b[0m\n\u001b[1;32m    220\u001b[0m \u001b[0;34m\u001b[0m\u001b[0m\n",
            "\u001b[0;31mValueError\u001b[0m: Unknown label type: 'continuous'"
          ]
        }
      ]
    },
    {
      "cell_type": "code",
      "source": [],
      "metadata": {
        "id": "nHSf3lhiU3TN"
      },
      "execution_count": null,
      "outputs": []
    },
    {
      "cell_type": "code",
      "source": [
        "# Đoạn code sử dụng thuật toán hồi quy (regression) thay vì sử dụng phương pháp phân loại trong K-NN\n",
        "from sklearn.model_selection import train_test_split\n",
        "from sklearn.neighbors import KNeighborsRegressor\n",
        "from sklearn.metrics import mean_squared_error, r2_score\n",
        "from sklearn.metrics import accuracy_score, confusion_matrix, precision_score , recall_score, f1_score\n",
        "# Xoá các hàng có giá trị thiếu\n",
        "data = df.dropna()\n",
        "\n",
        "# Xoá các cột không cần thiết và cột nhãn\n",
        "X = data.drop(['CO(GT)' , \"Date\", \"Time\"], axis=1)\n",
        "y = data[\"CO(GT)\"]\n",
        "\n",
        "# Chia dữ liệu thành tập huấn luyện và tập kiểm tra\n",
        "X_train, X_test, y_train, y_test = train_test_split(X, y, test_size=0.3, random_state=42)\n"
      ],
      "metadata": {
        "id": "pH4J9PooSrjl"
      },
      "execution_count": 87,
      "outputs": []
    },
    {
      "cell_type": "code",
      "source": [
        "# Sử dụng thuật toán hồi quy\n",
        "# Khởi tạo mô hình K-NN\n",
        "k = 3  # Số lượng láng giềng gần nhất trong mô hình K-NN \n",
        "# Nó sẽ lấy điểm dựa trên khoảng cách và lấy trung bình giá trị đầu ra của các điểm gần nhất đẻ dự đoán\n",
        "\n",
        "knn = KNeighborsRegressor(n_neighbors=k)\n",
        "\n",
        "# Huấn luyện mô hình trên tập huấn luyện\n",
        "knn.fit(X_train, y_train)\n",
        "\n",
        "# Dự đoán trên tập kiểm tra\n",
        "y_pred = knn.predict(X_test)\n",
        "\n",
        "# Đánh giá mô hình\n",
        "mse = mean_squared_error(y_test, y_pred)\n",
        "r2 = r2_score(y_test, y_pred)\n",
        "\n",
        "print(\"Mean Squared Error:\", mse)\n",
        "print(\"R-squared:\", r2)\n",
        "\n",
        "\n"
      ],
      "metadata": {
        "colab": {
          "base_uri": "https://localhost:8080/"
        },
        "id": "i2XykyDJXHxs",
        "outputId": "3a7ae5d3-fb1d-4404-d7a7-d2cff2516f5c"
      },
      "execution_count": 88,
      "outputs": [
        {
          "output_type": "stream",
          "name": "stdout",
          "text": [
            "Mean Squared Error: 2625.509194365305\n",
            "R-squared: 0.5491998491506324\n"
          ]
        }
      ]
    },
    {
      "cell_type": "code",
      "source": [
        "#----\n",
        "# Chuyển đổi thành bài toán phân loại với ngưỡng\n",
        "threshold = 1.5\n",
        "y_pred_class = [1 if val >= threshold else 0 for val in y_pred]\n",
        "y_test_class = [1 if val >= threshold else 0 for val in y_test]\n",
        "\n",
        "# Đánh giá hiệu suất\n",
        "accuracy = accuracy_score(y_test_class, y_pred_class)\n",
        "confusion = confusion_matrix(y_test_class, y_pred_class)\n",
        "precision = precision_score(y_test_class, y_pred_class)\n",
        "recall = recall_score(y_test_class, y_pred_class)\n",
        "f1 = f1_score(y_test_class, y_pred_class)\n",
        "\n",
        "print(\"Accuracy:\", accuracy)\n",
        "print(\"Confusion Matrix:\\n\", confusion)\n",
        "print(\"Precision:\", precision)\n",
        "print(\"Recall:\", recall)\n",
        "print(\"F1 Score:\", f1)"
      ],
      "metadata": {
        "colab": {
          "base_uri": "https://localhost:8080/"
        },
        "id": "14gsNDIIXPAZ",
        "outputId": "6ee2db76-f07d-44a8-de67-644abe637050"
      },
      "execution_count": 89,
      "outputs": [
        {
          "output_type": "stream",
          "name": "stdout",
          "text": [
            "Accuracy: 0.88497150997151\n",
            "Confusion Matrix:\n",
            " [[1242  109]\n",
            " [ 214 1243]]\n",
            "Precision: 0.9193786982248521\n",
            "Recall: 0.8531228551818806\n",
            "F1 Score: 0.8850124599501603\n"
          ]
        }
      ]
    }
  ]
}