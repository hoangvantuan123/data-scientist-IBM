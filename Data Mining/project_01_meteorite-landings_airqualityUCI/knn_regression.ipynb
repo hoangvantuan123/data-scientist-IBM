{
  "nbformat": 4,
  "nbformat_minor": 0,
  "metadata": {
    "colab": {
      "provenance": []
    },
    "kernelspec": {
      "name": "python3",
      "display_name": "Python 3"
    },
    "language_info": {
      "name": "python"
    }
  },
  "cells": [
    {
      "cell_type": "code",
      "source": [
        "pip install scikit-learn\n"
      ],
      "metadata": {
        "colab": {
          "base_uri": "https://localhost:8080/"
        },
        "id": "y4EuFpef613U",
        "outputId": "5ae711b2-a4cd-4e85-84d3-d785dadff4a5"
      },
      "execution_count": null,
      "outputs": [
        {
          "output_type": "stream",
          "name": "stdout",
          "text": [
            "Looking in indexes: https://pypi.org/simple, https://us-python.pkg.dev/colab-wheels/public/simple/\n",
            "Requirement already satisfied: scikit-learn in /usr/local/lib/python3.10/dist-packages (1.2.2)\n",
            "Requirement already satisfied: numpy>=1.17.3 in /usr/local/lib/python3.10/dist-packages (from scikit-learn) (1.22.4)\n",
            "Requirement already satisfied: scipy>=1.3.2 in /usr/local/lib/python3.10/dist-packages (from scikit-learn) (1.10.1)\n",
            "Requirement already satisfied: joblib>=1.1.1 in /usr/local/lib/python3.10/dist-packages (from scikit-learn) (1.2.0)\n",
            "Requirement already satisfied: threadpoolctl>=2.0.0 in /usr/local/lib/python3.10/dist-packages (from scikit-learn) (3.1.0)\n"
          ]
        }
      ]
    },
    {
      "cell_type": "code",
      "execution_count": null,
      "metadata": {
        "id": "ioEJsP9y5xmx"
      },
      "outputs": [],
      "source": [
        "from google.colab import drive\n",
        "import pandas as pd\n",
        "import numpy as np\n",
        "\n",
        "from sklearn.model_selection import train_test_split\n",
        "from sklearn.neighbors import KNeighborsRegressor"
      ]
    },
    {
      "cell_type": "code",
      "source": [
        "# Kết nối với Google Drive\n",
        "drive.mount('/content/drive')"
      ],
      "metadata": {
        "colab": {
          "base_uri": "https://localhost:8080/"
        },
        "id": "QNne8X0B6MLG",
        "outputId": "c189ba47-f53d-4bce-e5de-210e4bf595a0"
      },
      "execution_count": null,
      "outputs": [
        {
          "output_type": "stream",
          "name": "stdout",
          "text": [
            "Mounted at /content/drive\n"
          ]
        }
      ]
    },
    {
      "cell_type": "code",
      "source": [
        "# Đường dẫn đến tệp tin CSV trong Google Drive\n",
        "file_path = 'https://drive.google.com/uc?id=1OQYLAEJhQN1Rg0tKTz5qZDDDEn9o3Rza' \n"
      ],
      "metadata": {
        "id": "RpKlMk4l6Nnh"
      },
      "execution_count": null,
      "outputs": []
    },
    {
      "cell_type": "code",
      "source": [
        "# Đọc tệp tin dữ liệu và lưu vào DataFrame\n",
        "df = pd.read_csv(file_path)\n",
        "\n"
      ],
      "metadata": {
        "id": "W2au74pk6O6X"
      },
      "execution_count": null,
      "outputs": []
    },
    {
      "cell_type": "code",
      "source": [
        "df.shape"
      ],
      "metadata": {
        "colab": {
          "base_uri": "https://localhost:8080/"
        },
        "id": "aqmMAFf47XF6",
        "outputId": "7a6291d3-0281-438a-fe5b-03ff87e260d4"
      },
      "execution_count": null,
      "outputs": [
        {
          "output_type": "execute_result",
          "data": {
            "text/plain": [
              "(9357, 15)"
            ]
          },
          "metadata": {},
          "execution_count": 9
        }
      ]
    },
    {
      "cell_type": "code",
      "source": [
        "df.columns"
      ],
      "metadata": {
        "colab": {
          "base_uri": "https://localhost:8080/"
        },
        "id": "2pFTpQeB7cTL",
        "outputId": "1b73a413-6844-4689-aa16-ae51c9a53b02"
      },
      "execution_count": null,
      "outputs": [
        {
          "output_type": "execute_result",
          "data": {
            "text/plain": [
              "Index(['Date', 'Time', 'CO(GT)', 'PT08.S1(CO)', 'NMHC(GT)', 'C6H6(GT)',\n",
              "       'PT08.S2(NMHC)', 'NOx(GT)', 'PT08.S3(NOx)', 'NO2(GT)', 'PT08.S4(NO2)',\n",
              "       'PT08.S5(O3)', 'T', 'RH', 'AH'],\n",
              "      dtype='object')"
            ]
          },
          "metadata": {},
          "execution_count": 10
        }
      ]
    },
    {
      "cell_type": "code",
      "source": [
        "features = ['CO(GT)', 'PT08.S1(CO)', 'NMHC(GT)', 'C6H6(GT)',\n",
        "       'PT08.S2(NMHC)', 'NOx(GT)', 'PT08.S3(NOx)', 'NO2(GT)', 'PT08.S4(NO2)',\n",
        "       'PT08.S5(O3)', 'T', 'RH', 'AH']"
      ],
      "metadata": {
        "id": "2XRH0TKk8Ykg"
      },
      "execution_count": null,
      "outputs": []
    },
    {
      "cell_type": "code",
      "source": [
        "data = df[features]\n",
        "print(data)\n"
      ],
      "metadata": {
        "colab": {
          "base_uri": "https://localhost:8080/"
        },
        "id": "_B-0f11e8MWh",
        "outputId": "29897d47-0e13-4e8e-bc49-434361455864"
      },
      "execution_count": null,
      "outputs": [
        {
          "output_type": "stream",
          "name": "stdout",
          "text": [
            "      CO(GT)  PT08.S1(CO)  NMHC(GT)   C6H6(GT)  PT08.S2(NMHC)  NOx(GT)  \\\n",
            "0        2.6      1360.00       150  11.881723        1045.50    166.0   \n",
            "1        2.0      1292.25       112   9.397165         954.75    103.0   \n",
            "2        2.2      1402.00        88   8.997817         939.25    131.0   \n",
            "3        2.2      1375.50        80   9.228796         948.25    172.0   \n",
            "4        1.6      1272.25        51   6.518224         835.50    131.0   \n",
            "...      ...          ...       ...        ...            ...      ...   \n",
            "9352     3.1      1314.25      -200  13.529605        1101.25    471.7   \n",
            "9353     2.4      1162.50      -200  11.355157        1027.00    353.3   \n",
            "9354     2.4      1142.00      -200  12.374538        1062.50    293.0   \n",
            "9355     2.1      1002.50      -200   9.547187         960.50    234.5   \n",
            "9356     2.2      1070.75      -200  11.932060        1047.25    265.2   \n",
            "\n",
            "      PT08.S3(NOx)  NO2(GT)  PT08.S4(NO2)  PT08.S5(O3)       T         RH  \\\n",
            "0          1056.25    113.0       1692.00      1267.50  13.600  48.875001   \n",
            "1          1173.75     92.0       1558.75       972.25  13.300  47.700000   \n",
            "2          1140.00    114.0       1554.50      1074.00  11.900  53.975000   \n",
            "3          1092.00    122.0       1583.75      1203.25  11.000  60.000000   \n",
            "4          1205.00    116.0       1490.00      1110.00  11.150  59.575001   \n",
            "...            ...      ...           ...          ...     ...        ...   \n",
            "9352        538.50    189.8       1374.25      1728.50  21.850  29.250000   \n",
            "9353        603.75    179.2       1263.50      1269.00  24.325  23.725000   \n",
            "9354        603.25    174.7       1240.75      1092.00  26.900  18.350000   \n",
            "9355        701.50    155.7       1041.00       769.75  28.325  13.550000   \n",
            "9356        654.00    167.7       1128.50       816.00  28.500  13.125000   \n",
            "\n",
            "            AH  \n",
            "0     0.757754  \n",
            "1     0.725487  \n",
            "2     0.750239  \n",
            "3     0.786713  \n",
            "4     0.788794  \n",
            "...        ...  \n",
            "9352  0.756824  \n",
            "9353  0.711864  \n",
            "9354  0.640649  \n",
            "9355  0.513866  \n",
            "9356  0.502804  \n",
            "\n",
            "[9357 rows x 13 columns]\n"
          ]
        }
      ]
    },
    {
      "cell_type": "code",
      "source": [
        "data.info()"
      ],
      "metadata": {
        "colab": {
          "base_uri": "https://localhost:8080/"
        },
        "id": "yd7ZfChk8eZe",
        "outputId": "ed76c937-4f9c-431a-c52f-2f335ade7bf6"
      },
      "execution_count": null,
      "outputs": [
        {
          "output_type": "stream",
          "name": "stdout",
          "text": [
            "<class 'pandas.core.frame.DataFrame'>\n",
            "RangeIndex: 9357 entries, 0 to 9356\n",
            "Data columns (total 13 columns):\n",
            " #   Column         Non-Null Count  Dtype  \n",
            "---  ------         --------------  -----  \n",
            " 0   CO(GT)         9357 non-null   float64\n",
            " 1   PT08.S1(CO)    9357 non-null   float64\n",
            " 2   NMHC(GT)       9357 non-null   int64  \n",
            " 3   C6H6(GT)       9357 non-null   float64\n",
            " 4   PT08.S2(NMHC)  9357 non-null   float64\n",
            " 5   NOx(GT)        9357 non-null   float64\n",
            " 6   PT08.S3(NOx)   9357 non-null   float64\n",
            " 7   NO2(GT)        9357 non-null   float64\n",
            " 8   PT08.S4(NO2)   9357 non-null   float64\n",
            " 9   PT08.S5(O3)    9357 non-null   float64\n",
            " 10  T              9357 non-null   float64\n",
            " 11  RH             9357 non-null   float64\n",
            " 12  AH             9357 non-null   float64\n",
            "dtypes: float64(12), int64(1)\n",
            "memory usage: 950.4 KB\n"
          ]
        }
      ]
    },
    {
      "cell_type": "code",
      "source": [
        "# Lấy tất cả cacs cột trừ cột cuối cùng\n",
        "X = data.iloc[: , :-1]\n"
      ],
      "metadata": {
        "colab": {
          "base_uri": "https://localhost:8080/",
          "height": 424
        },
        "id": "sXvLVr8v8sv6",
        "outputId": "3692c4e0-806c-4cbc-e7c9-ae1e98dba184"
      },
      "execution_count": null,
      "outputs": [
        {
          "output_type": "execute_result",
          "data": {
            "text/plain": [
              "      CO(GT)  PT08.S1(CO)  NMHC(GT)   C6H6(GT)  PT08.S2(NMHC)  NOx(GT)  \\\n",
              "0        2.6      1360.00       150  11.881723        1045.50    166.0   \n",
              "1        2.0      1292.25       112   9.397165         954.75    103.0   \n",
              "2        2.2      1402.00        88   8.997817         939.25    131.0   \n",
              "3        2.2      1375.50        80   9.228796         948.25    172.0   \n",
              "4        1.6      1272.25        51   6.518224         835.50    131.0   \n",
              "...      ...          ...       ...        ...            ...      ...   \n",
              "9352     3.1      1314.25      -200  13.529605        1101.25    471.7   \n",
              "9353     2.4      1162.50      -200  11.355157        1027.00    353.3   \n",
              "9354     2.4      1142.00      -200  12.374538        1062.50    293.0   \n",
              "9355     2.1      1002.50      -200   9.547187         960.50    234.5   \n",
              "9356     2.2      1070.75      -200  11.932060        1047.25    265.2   \n",
              "\n",
              "      PT08.S3(NOx)  NO2(GT)  PT08.S4(NO2)  PT08.S5(O3)       T         RH  \n",
              "0          1056.25    113.0       1692.00      1267.50  13.600  48.875001  \n",
              "1          1173.75     92.0       1558.75       972.25  13.300  47.700000  \n",
              "2          1140.00    114.0       1554.50      1074.00  11.900  53.975000  \n",
              "3          1092.00    122.0       1583.75      1203.25  11.000  60.000000  \n",
              "4          1205.00    116.0       1490.00      1110.00  11.150  59.575001  \n",
              "...            ...      ...           ...          ...     ...        ...  \n",
              "9352        538.50    189.8       1374.25      1728.50  21.850  29.250000  \n",
              "9353        603.75    179.2       1263.50      1269.00  24.325  23.725000  \n",
              "9354        603.25    174.7       1240.75      1092.00  26.900  18.350000  \n",
              "9355        701.50    155.7       1041.00       769.75  28.325  13.550000  \n",
              "9356        654.00    167.7       1128.50       816.00  28.500  13.125000  \n",
              "\n",
              "[9357 rows x 12 columns]"
            ],
            "text/html": [
              "\n",
              "  <div id=\"df-bf2157d7-41ce-46cb-9801-7eddf9abeba3\">\n",
              "    <div class=\"colab-df-container\">\n",
              "      <div>\n",
              "<style scoped>\n",
              "    .dataframe tbody tr th:only-of-type {\n",
              "        vertical-align: middle;\n",
              "    }\n",
              "\n",
              "    .dataframe tbody tr th {\n",
              "        vertical-align: top;\n",
              "    }\n",
              "\n",
              "    .dataframe thead th {\n",
              "        text-align: right;\n",
              "    }\n",
              "</style>\n",
              "<table border=\"1\" class=\"dataframe\">\n",
              "  <thead>\n",
              "    <tr style=\"text-align: right;\">\n",
              "      <th></th>\n",
              "      <th>CO(GT)</th>\n",
              "      <th>PT08.S1(CO)</th>\n",
              "      <th>NMHC(GT)</th>\n",
              "      <th>C6H6(GT)</th>\n",
              "      <th>PT08.S2(NMHC)</th>\n",
              "      <th>NOx(GT)</th>\n",
              "      <th>PT08.S3(NOx)</th>\n",
              "      <th>NO2(GT)</th>\n",
              "      <th>PT08.S4(NO2)</th>\n",
              "      <th>PT08.S5(O3)</th>\n",
              "      <th>T</th>\n",
              "      <th>RH</th>\n",
              "    </tr>\n",
              "  </thead>\n",
              "  <tbody>\n",
              "    <tr>\n",
              "      <th>0</th>\n",
              "      <td>2.6</td>\n",
              "      <td>1360.00</td>\n",
              "      <td>150</td>\n",
              "      <td>11.881723</td>\n",
              "      <td>1045.50</td>\n",
              "      <td>166.0</td>\n",
              "      <td>1056.25</td>\n",
              "      <td>113.0</td>\n",
              "      <td>1692.00</td>\n",
              "      <td>1267.50</td>\n",
              "      <td>13.600</td>\n",
              "      <td>48.875001</td>\n",
              "    </tr>\n",
              "    <tr>\n",
              "      <th>1</th>\n",
              "      <td>2.0</td>\n",
              "      <td>1292.25</td>\n",
              "      <td>112</td>\n",
              "      <td>9.397165</td>\n",
              "      <td>954.75</td>\n",
              "      <td>103.0</td>\n",
              "      <td>1173.75</td>\n",
              "      <td>92.0</td>\n",
              "      <td>1558.75</td>\n",
              "      <td>972.25</td>\n",
              "      <td>13.300</td>\n",
              "      <td>47.700000</td>\n",
              "    </tr>\n",
              "    <tr>\n",
              "      <th>2</th>\n",
              "      <td>2.2</td>\n",
              "      <td>1402.00</td>\n",
              "      <td>88</td>\n",
              "      <td>8.997817</td>\n",
              "      <td>939.25</td>\n",
              "      <td>131.0</td>\n",
              "      <td>1140.00</td>\n",
              "      <td>114.0</td>\n",
              "      <td>1554.50</td>\n",
              "      <td>1074.00</td>\n",
              "      <td>11.900</td>\n",
              "      <td>53.975000</td>\n",
              "    </tr>\n",
              "    <tr>\n",
              "      <th>3</th>\n",
              "      <td>2.2</td>\n",
              "      <td>1375.50</td>\n",
              "      <td>80</td>\n",
              "      <td>9.228796</td>\n",
              "      <td>948.25</td>\n",
              "      <td>172.0</td>\n",
              "      <td>1092.00</td>\n",
              "      <td>122.0</td>\n",
              "      <td>1583.75</td>\n",
              "      <td>1203.25</td>\n",
              "      <td>11.000</td>\n",
              "      <td>60.000000</td>\n",
              "    </tr>\n",
              "    <tr>\n",
              "      <th>4</th>\n",
              "      <td>1.6</td>\n",
              "      <td>1272.25</td>\n",
              "      <td>51</td>\n",
              "      <td>6.518224</td>\n",
              "      <td>835.50</td>\n",
              "      <td>131.0</td>\n",
              "      <td>1205.00</td>\n",
              "      <td>116.0</td>\n",
              "      <td>1490.00</td>\n",
              "      <td>1110.00</td>\n",
              "      <td>11.150</td>\n",
              "      <td>59.575001</td>\n",
              "    </tr>\n",
              "    <tr>\n",
              "      <th>...</th>\n",
              "      <td>...</td>\n",
              "      <td>...</td>\n",
              "      <td>...</td>\n",
              "      <td>...</td>\n",
              "      <td>...</td>\n",
              "      <td>...</td>\n",
              "      <td>...</td>\n",
              "      <td>...</td>\n",
              "      <td>...</td>\n",
              "      <td>...</td>\n",
              "      <td>...</td>\n",
              "      <td>...</td>\n",
              "    </tr>\n",
              "    <tr>\n",
              "      <th>9352</th>\n",
              "      <td>3.1</td>\n",
              "      <td>1314.25</td>\n",
              "      <td>-200</td>\n",
              "      <td>13.529605</td>\n",
              "      <td>1101.25</td>\n",
              "      <td>471.7</td>\n",
              "      <td>538.50</td>\n",
              "      <td>189.8</td>\n",
              "      <td>1374.25</td>\n",
              "      <td>1728.50</td>\n",
              "      <td>21.850</td>\n",
              "      <td>29.250000</td>\n",
              "    </tr>\n",
              "    <tr>\n",
              "      <th>9353</th>\n",
              "      <td>2.4</td>\n",
              "      <td>1162.50</td>\n",
              "      <td>-200</td>\n",
              "      <td>11.355157</td>\n",
              "      <td>1027.00</td>\n",
              "      <td>353.3</td>\n",
              "      <td>603.75</td>\n",
              "      <td>179.2</td>\n",
              "      <td>1263.50</td>\n",
              "      <td>1269.00</td>\n",
              "      <td>24.325</td>\n",
              "      <td>23.725000</td>\n",
              "    </tr>\n",
              "    <tr>\n",
              "      <th>9354</th>\n",
              "      <td>2.4</td>\n",
              "      <td>1142.00</td>\n",
              "      <td>-200</td>\n",
              "      <td>12.374538</td>\n",
              "      <td>1062.50</td>\n",
              "      <td>293.0</td>\n",
              "      <td>603.25</td>\n",
              "      <td>174.7</td>\n",
              "      <td>1240.75</td>\n",
              "      <td>1092.00</td>\n",
              "      <td>26.900</td>\n",
              "      <td>18.350000</td>\n",
              "    </tr>\n",
              "    <tr>\n",
              "      <th>9355</th>\n",
              "      <td>2.1</td>\n",
              "      <td>1002.50</td>\n",
              "      <td>-200</td>\n",
              "      <td>9.547187</td>\n",
              "      <td>960.50</td>\n",
              "      <td>234.5</td>\n",
              "      <td>701.50</td>\n",
              "      <td>155.7</td>\n",
              "      <td>1041.00</td>\n",
              "      <td>769.75</td>\n",
              "      <td>28.325</td>\n",
              "      <td>13.550000</td>\n",
              "    </tr>\n",
              "    <tr>\n",
              "      <th>9356</th>\n",
              "      <td>2.2</td>\n",
              "      <td>1070.75</td>\n",
              "      <td>-200</td>\n",
              "      <td>11.932060</td>\n",
              "      <td>1047.25</td>\n",
              "      <td>265.2</td>\n",
              "      <td>654.00</td>\n",
              "      <td>167.7</td>\n",
              "      <td>1128.50</td>\n",
              "      <td>816.00</td>\n",
              "      <td>28.500</td>\n",
              "      <td>13.125000</td>\n",
              "    </tr>\n",
              "  </tbody>\n",
              "</table>\n",
              "<p>9357 rows × 12 columns</p>\n",
              "</div>\n",
              "      <button class=\"colab-df-convert\" onclick=\"convertToInteractive('df-bf2157d7-41ce-46cb-9801-7eddf9abeba3')\"\n",
              "              title=\"Convert this dataframe to an interactive table.\"\n",
              "              style=\"display:none;\">\n",
              "        \n",
              "  <svg xmlns=\"http://www.w3.org/2000/svg\" height=\"24px\"viewBox=\"0 0 24 24\"\n",
              "       width=\"24px\">\n",
              "    <path d=\"M0 0h24v24H0V0z\" fill=\"none\"/>\n",
              "    <path d=\"M18.56 5.44l.94 2.06.94-2.06 2.06-.94-2.06-.94-.94-2.06-.94 2.06-2.06.94zm-11 1L8.5 8.5l.94-2.06 2.06-.94-2.06-.94L8.5 2.5l-.94 2.06-2.06.94zm10 10l.94 2.06.94-2.06 2.06-.94-2.06-.94-.94-2.06-.94 2.06-2.06.94z\"/><path d=\"M17.41 7.96l-1.37-1.37c-.4-.4-.92-.59-1.43-.59-.52 0-1.04.2-1.43.59L10.3 9.45l-7.72 7.72c-.78.78-.78 2.05 0 2.83L4 21.41c.39.39.9.59 1.41.59.51 0 1.02-.2 1.41-.59l7.78-7.78 2.81-2.81c.8-.78.8-2.07 0-2.86zM5.41 20L4 18.59l7.72-7.72 1.47 1.35L5.41 20z\"/>\n",
              "  </svg>\n",
              "      </button>\n",
              "      \n",
              "  <style>\n",
              "    .colab-df-container {\n",
              "      display:flex;\n",
              "      flex-wrap:wrap;\n",
              "      gap: 12px;\n",
              "    }\n",
              "\n",
              "    .colab-df-convert {\n",
              "      background-color: #E8F0FE;\n",
              "      border: none;\n",
              "      border-radius: 50%;\n",
              "      cursor: pointer;\n",
              "      display: none;\n",
              "      fill: #1967D2;\n",
              "      height: 32px;\n",
              "      padding: 0 0 0 0;\n",
              "      width: 32px;\n",
              "    }\n",
              "\n",
              "    .colab-df-convert:hover {\n",
              "      background-color: #E2EBFA;\n",
              "      box-shadow: 0px 1px 2px rgba(60, 64, 67, 0.3), 0px 1px 3px 1px rgba(60, 64, 67, 0.15);\n",
              "      fill: #174EA6;\n",
              "    }\n",
              "\n",
              "    [theme=dark] .colab-df-convert {\n",
              "      background-color: #3B4455;\n",
              "      fill: #D2E3FC;\n",
              "    }\n",
              "\n",
              "    [theme=dark] .colab-df-convert:hover {\n",
              "      background-color: #434B5C;\n",
              "      box-shadow: 0px 1px 3px 1px rgba(0, 0, 0, 0.15);\n",
              "      filter: drop-shadow(0px 1px 2px rgba(0, 0, 0, 0.3));\n",
              "      fill: #FFFFFF;\n",
              "    }\n",
              "  </style>\n",
              "\n",
              "      <script>\n",
              "        const buttonEl =\n",
              "          document.querySelector('#df-bf2157d7-41ce-46cb-9801-7eddf9abeba3 button.colab-df-convert');\n",
              "        buttonEl.style.display =\n",
              "          google.colab.kernel.accessAllowed ? 'block' : 'none';\n",
              "\n",
              "        async function convertToInteractive(key) {\n",
              "          const element = document.querySelector('#df-bf2157d7-41ce-46cb-9801-7eddf9abeba3');\n",
              "          const dataTable =\n",
              "            await google.colab.kernel.invokeFunction('convertToInteractive',\n",
              "                                                     [key], {});\n",
              "          if (!dataTable) return;\n",
              "\n",
              "          const docLinkHtml = 'Like what you see? Visit the ' +\n",
              "            '<a target=\"_blank\" href=https://colab.research.google.com/notebooks/data_table.ipynb>data table notebook</a>'\n",
              "            + ' to learn more about interactive tables.';\n",
              "          element.innerHTML = '';\n",
              "          dataTable['output_type'] = 'display_data';\n",
              "          await google.colab.output.renderOutput(dataTable, element);\n",
              "          const docLink = document.createElement('div');\n",
              "          docLink.innerHTML = docLinkHtml;\n",
              "          element.appendChild(docLink);\n",
              "        }\n",
              "      </script>\n",
              "    </div>\n",
              "  </div>\n",
              "  "
            ]
          },
          "metadata": {},
          "execution_count": 18
        }
      ]
    },
    {
      "cell_type": "code",
      "source": [
        "# Lấy cột cuối cùng của bảng\n",
        "y = data.iloc[: , -1]\n",
        "y"
      ],
      "metadata": {
        "colab": {
          "base_uri": "https://localhost:8080/"
        },
        "id": "9NvQxfnu86Ra",
        "outputId": "2014f6ef-c3a4-4627-ad7b-c3b4ee1cbc96"
      },
      "execution_count": null,
      "outputs": [
        {
          "output_type": "execute_result",
          "data": {
            "text/plain": [
              "0       0.757754\n",
              "1       0.725487\n",
              "2       0.750239\n",
              "3       0.786713\n",
              "4       0.788794\n",
              "          ...   \n",
              "9352    0.756824\n",
              "9353    0.711864\n",
              "9354    0.640649\n",
              "9355    0.513866\n",
              "9356    0.502804\n",
              "Name: AH, Length: 9357, dtype: float64"
            ]
          },
          "metadata": {},
          "execution_count": 20
        }
      ]
    },
    {
      "cell_type": "code",
      "source": [
        "# Chia dữ liệu thành tập huấn luyện và tập kiểm tra\n",
        "X_train, X_test, y_train, y_test = train_test_split(X, y, test_size=0.3, random_state=42)\n",
        "X_train.shape, X_test.shape, y_train.shape, y_test.shape"
      ],
      "metadata": {
        "colab": {
          "base_uri": "https://localhost:8080/"
        },
        "id": "ebS0OlIE-kKZ",
        "outputId": "43321771-733f-4863-c51d-c4d2b8ce7f5b"
      },
      "execution_count": null,
      "outputs": [
        {
          "output_type": "execute_result",
          "data": {
            "text/plain": [
              "((6549, 12), (2808, 12), (6549,), (2808,))"
            ]
          },
          "metadata": {},
          "execution_count": 24
        }
      ]
    },
    {
      "cell_type": "code",
      "source": [
        "# Xây dựng mô hình KNN Regression\n",
        "k = 5  # Số láng giềng gần nhất\n",
        "knn_regressor = KNeighborsRegressor(n_neighbors=k)\n",
        "knn_regressor.fit(X_train, y_train)\n",
        "\n",
        "# Dự đoán giá trị đầu ra cho tập kiểm tra\n",
        "y_pred = knn_regressor.predict(X_test)\n",
        "print(pd.DataFrame({\"y_predicted\" : y_pred , \"y_test\" : y_test}))"
      ],
      "metadata": {
        "colab": {
          "base_uri": "https://localhost:8080/"
        },
        "id": "fRjfz7ko_PHO",
        "outputId": "4822bdda-dc60-45e3-bd39-3206dbac225f"
      },
      "execution_count": null,
      "outputs": [
        {
          "output_type": "stream",
          "name": "stdout",
          "text": [
            "      y_predicted    y_test\n",
            "2973     1.244151  1.150921\n",
            "3396     1.483065  1.384914\n",
            "4372     1.034640  1.013075\n",
            "6025     0.509181  0.525066\n",
            "7960     0.361517  0.409122\n",
            "...           ...       ...\n",
            "5737     1.554556  1.686530\n",
            "2595     1.319465  1.488056\n",
            "6226     0.694126  0.715197\n",
            "1030     0.824091  0.726206\n",
            "4812     0.865654  0.980228\n",
            "\n",
            "[2808 rows x 2 columns]\n"
          ]
        }
      ]
    },
    {
      "cell_type": "markdown",
      "source": [
        "# Mô hình hồi quy tuyến tính (linear regression) trên dữ liệu từ DataFrame data, bạn có thể sử dụng thư viện scikit-learn trong Python.\n",
        "## linear model\n",
        "### y = coef_*x + intercept_\n",
        "w1x1 + w2x2 +...+wnxn +w0\n",
        "y = \n",
        "y =w.x + b"
      ],
      "metadata": {
        "id": "n5CjEtshARVg"
      }
    },
    {
      "cell_type": "code",
      "source": [
        "from sklearn.linear_model import LinearRegression"
      ],
      "metadata": {
        "id": "NcYp8801AWbi"
      },
      "execution_count": null,
      "outputs": []
    },
    {
      "cell_type": "code",
      "source": [
        "# Chia dữ liệu thành tập huấn luyện và tập kiểm tra\n",
        "X_train, X_test, y_train, y_test = train_test_split(X, y, test_size=0.2, random_state=42)\n",
        "\n",
        "# Xây dựng mô hình Linear Regression\n",
        "linear_regression = LinearRegression()\n",
        "linear_regression.fit(X_train, y_train)\n",
        "\n",
        "# Dự đoán giá trị đầu ra cho tập kiểm tra\n",
        "y_pred = linear_regression.predict(X_test)\n",
        "print(pd.DataFrame({\"y_predicted\" : y_pred , \"y_test\" : y_test}))"
      ],
      "metadata": {
        "colab": {
          "base_uri": "https://localhost:8080/"
        },
        "id": "FoBV0D4iAzis",
        "outputId": "fd1d5bac-91c9-4c5c-eaec-42b13ecdef9b"
      },
      "execution_count": null,
      "outputs": [
        {
          "output_type": "stream",
          "name": "stdout",
          "text": [
            "      y_predicted      y_test\n",
            "2973     0.486713    1.150921\n",
            "3396     1.314754    1.384914\n",
            "4372     1.276321    1.013075\n",
            "6025    -0.338546    0.525066\n",
            "7960     0.043017    0.409122\n",
            "...           ...         ...\n",
            "724   -198.869245 -200.000000\n",
            "4407     1.069564    1.037773\n",
            "3772     1.728701    1.707492\n",
            "9069     0.656872    0.634557\n",
            "5360     1.719982    1.562583\n",
            "\n",
            "[1872 rows x 2 columns]\n"
          ]
        }
      ]
    },
    {
      "cell_type": "code",
      "source": [
        "\n",
        "#các hệ số (weights) của mô hình bằng cách sử dụng thuộc tính coef_. \n",
        "w = linear_regression.coef_\n",
        "w"
      ],
      "metadata": {
        "colab": {
          "base_uri": "https://localhost:8080/"
        },
        "id": "ZjayMsVTBI5L",
        "outputId": "5386949b-cf54-4617-9f85-042caa51b492"
      },
      "execution_count": null,
      "outputs": [
        {
          "output_type": "execute_result",
          "data": {
            "text/plain": [
              "array([-9.07775592e-05, -6.22428248e-04,  1.76583127e-03,  7.79591948e-01,\n",
              "       -1.80415346e-02, -3.27855640e-03, -1.08966228e-03,  5.27103705e-03,\n",
              "       -4.79364592e-03,  7.70728745e-04,  2.21213808e-01,  7.24786427e-02])"
            ]
          },
          "metadata": {},
          "execution_count": 31
        }
      ]
    },
    {
      "cell_type": "code",
      "source": [
        "#Để lấy hệ số chặn (intercept) của mô hình hồi quy tuyến tính, bạn có thể sử dụng thuộc tính intercept_ của đối tượng mô hình hồi quy tuyến tính.\n",
        "w0= linear_regression.intercept_\n",
        "w0"
      ],
      "metadata": {
        "colab": {
          "base_uri": "https://localhost:8080/"
        },
        "id": "QMa4ov7BBi6U",
        "outputId": "fa868c71-8d3d-4489-a434-c0d94f058907"
      },
      "execution_count": null,
      "outputs": [
        {
          "output_type": "execute_result",
          "data": {
            "text/plain": [
              "10.786112753475576"
            ]
          },
          "metadata": {},
          "execution_count": 32
        }
      ]
    },
    {
      "cell_type": "markdown",
      "source": [
        "# Đo lường sai số trung bình tuyệt đối (Mean Absolute Error - MAE) là một phương pháp phổ biến để đánh giá hiệu suất của mô hình hồi quy. Để tính toán MAE giữa hai dãy giá trị y và yhat, bạn có thể sử dụng hàm như sau:"
      ],
      "metadata": {
        "id": "iDMH8dv8CfBG"
      }
    },
    {
      "cell_type": "code",
      "source": [
        "import numpy as np\n",
        "\n",
        "def MAE(y, yhat):\n",
        "    return np.sum(np.abs(y - yhat)) / len(y)\n",
        "\n",
        "mae = MAE(y_test, y_pred)\n",
        "print(\"Mean Absolute Error:\", mae)\n"
      ],
      "metadata": {
        "colab": {
          "base_uri": "https://localhost:8080/"
        },
        "id": "pYN_TzdDCevb",
        "outputId": "e43114d5-9772-4fd9-de58-b82eaafa6744"
      },
      "execution_count": null,
      "outputs": [
        {
          "output_type": "stream",
          "name": "stdout",
          "text": [
            "Mean Absolute Error: 0.7439265124057501\n"
          ]
        }
      ]
    }
  ]
}